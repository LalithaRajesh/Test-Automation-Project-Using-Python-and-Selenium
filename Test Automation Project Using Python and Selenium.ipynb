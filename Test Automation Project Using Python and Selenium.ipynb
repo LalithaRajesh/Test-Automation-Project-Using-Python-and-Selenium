{
 "cells": [
  {
   "cell_type": "markdown",
   "metadata": {},
   "source": [
    "# Test Automation Task using Python and Selenium"
   ]
  },
  {
   "cell_type": "markdown",
   "metadata": {},
   "source": [
    "#### The below are the test cases writtern for the link  https://octopusinvestments.com/investor/about-us/our-people/ . \n",
    "\n",
    "<u> Tools Used: </u>\n",
    " - Python 3.x\n",
    " - Selenium\n",
    " - Computer Vision (Open CV)"
   ]
  },
  {
   "cell_type": "markdown",
   "metadata": {},
   "source": [
    "#### Tasks to be completed:\n",
    "\n",
    " - Search for a person, validate that the correct person was found \n",
    " - Click on an image and verify that the profile details match the person found\n",
    " - Sort by A-Z and Z-A and verify that the sorting order is correct"
   ]
  },
  {
   "cell_type": "markdown",
   "metadata": {},
   "source": [
    "#### Assumptions:\n",
    "\n",
    "- I have taken an example of a person for my POC (proof of concept) and written the code.\n",
    "- Before executing the code, I am aware of the person's image and person's name to perform the validation."
   ]
  },
  {
   "cell_type": "markdown",
   "metadata": {},
   "source": [
    "#### The below code brings the list of names for 'Chris', out of which 'Chris Hulatt' is chosen for this code"
   ]
  },
  {
   "cell_type": "code",
   "execution_count": 30,
   "metadata": {},
   "outputs": [
    {
     "name": "stdout",
     "output_type": "stream",
     "text": [
      "The search result for Chris are printed: \n"
     ]
    }
   ],
   "source": [
    "import time\n",
    "from selenium import webdriver\n",
    "browser = webdriver.Chrome('C:/Users/Rajesh/OneDrive/Desktop/chromedriver_win32 (1)/chromedriver.exe')\n",
    "browser.maximize_window()\n",
    "browser.get('https://octopusinvestments.com/investor/about-us/our-people/')\n",
    "search = browser.find_element_by_name('search')\n",
    "search.send_keys(\"Chris\")\n",
    "ids = browser.find_elements_by_xpath(\"//input[@placeholder='e.g Ruth Handcock']\")\n",
    "for i in ids:\n",
    "    #print i.text\n",
    "    print (\"The search result for Chris are printed:\",i.text)"
   ]
  },
  {
   "cell_type": "markdown",
   "metadata": {},
   "source": [
    "### Test Case- 1\n",
    "#### Search for a Person\n",
    "\n",
    "The below test case searches for the person - 'Chris Hulatt'."
   ]
  },
  {
   "cell_type": "code",
   "execution_count": 31,
   "metadata": {},
   "outputs": [
    {
     "name": "stdout",
     "output_type": "stream",
     "text": [
      "The result for 'Chris Hulatt' is seen on the screen \n"
     ]
    }
   ],
   "source": [
    "from PIL import Image\n",
    "from selenium import webdriver\n",
    "from selenium.webdriver import ActionChains \n",
    "from selenium.webdriver.common.keys import Keys\n",
    "browser = webdriver.Chrome('C:/Users/Rajesh/OneDrive/Desktop/chromedriver_win32 (1)/chromedriver.exe')\n",
    "browser.maximize_window()\n",
    "browser.get('https://octopusinvestments.com/investor/about-us/our-people/')\n",
    "search = browser.find_element_by_name('search')\n",
    "search.send_keys(\"Chris Hulatt\")\n",
    "ids = browser.find_elements_by_xpath(\"//input[@placeholder='e.g Ruth Handcock']\")\n",
    "time.sleep(5)\n",
    "for i in ids:\n",
    "    #print i.text\n",
    "    print (\"The result for 'Chris Hulatt' is seen on the screen\", i.text)"
   ]
  },
  {
   "cell_type": "markdown",
   "metadata": {},
   "source": [
    "### Test Case-2\n",
    "#### Validate if the correct person was found\n",
    "\n",
    "In order to validate if the correct person was found, we are going to compare it with the images obtained from the web and the image which we already had in the local repository. Such that, it provides the differences if there is any."
   ]
  },
  {
   "cell_type": "code",
   "execution_count": 79,
   "metadata": {},
   "outputs": [
    {
     "name": "stdout",
     "output_type": "stream",
     "text": [
      "The result for 'Chris Hulatt' is seen on the screen \n"
     ]
    },
    {
     "data": {
      "text/plain": [
       "'https://octopusinvestments.com/investor/wp-content/uploads/Chris-Hulatt-1.jpg'"
      ]
     },
     "execution_count": 79,
     "metadata": {},
     "output_type": "execute_result"
    }
   ],
   "source": [
    "from PIL import Image\n",
    "from selenium import webdriver\n",
    "from selenium.webdriver import ActionChains \n",
    "from selenium.webdriver.common.keys import Keys\n",
    "browser = webdriver.Chrome('C:/Users/Rajesh/OneDrive/Desktop/chromedriver_win32 (1)/chromedriver.exe')\n",
    "browser.maximize_window()\n",
    "browser.get('https://octopusinvestments.com/investor/about-us/our-people/')\n",
    "search = browser.find_element_by_name('search')\n",
    "search.send_keys(\"Chris Hulatt\")\n",
    "ids = browser.find_elements_by_xpath(\"//input[@placeholder='e.g Ruth Handcock']\")\n",
    "time.sleep(5)\n",
    "for i in ids:\n",
    "    #print i.text\n",
    "    print (\"The result for 'Chris Hulatt' is seen on the screen\", i.text)\n",
    "# get the image source\n",
    "image = browser.find_element_by_xpath(\"//img[@class='attachment-team-thumb size-team-thumb wp-post-image']\").get_attribute('src')\n",
    "image"
   ]
  },
  {
   "cell_type": "markdown",
   "metadata": {},
   "source": [
    "The below code pulls the image source from the website and saves it to the local repository"
   ]
  },
  {
   "cell_type": "code",
   "execution_count": 87,
   "metadata": {},
   "outputs": [],
   "source": [
    "import urllib.request\n",
    "\n",
    "url = 'https://octopusinvestments.com/investor/wp-content/uploads/Chris-Hulatt-1.jpg'\n",
    "opener = urllib.request.URLopener()\n",
    "opener.addheader('User-Agent', 'whatever')\n",
    "filename, headers = opener.retrieve(url, 'C:/Users/Rajesh/OneDrive/Desktop/chris.jpg')"
   ]
  },
  {
   "cell_type": "markdown",
   "metadata": {},
   "source": [
    "This code uses OpenCV to compare between two images and finds the difference between them."
   ]
  },
  {
   "cell_type": "code",
   "execution_count": null,
   "metadata": {},
   "outputs": [
    {
     "name": "stdout",
     "output_type": "stream",
     "text": [
      "The images have same size and channels\n",
      "The images are completely Equal\n"
     ]
    }
   ],
   "source": [
    "import cv2\n",
    "import numpy as np\n",
    "original = cv2.imread(\"C:/Users/Rajesh/OneDrive/Desktop/Source-Chris-Hulatt-1.jpg\")\n",
    "duplicate = cv2.imread(\"C:/Users/Rajesh/OneDrive/Desktop/Target-Chris-Hulatt.jpg\")\n",
    "if original.shape == duplicate.shape:\n",
    "    print(\"The images have same size and channels\")\n",
    "else:\n",
    "    print(\"There are difference with size and channels\")\n",
    "difference = cv2.subtract(original, duplicate)\n",
    "b, g, r = cv2.split(difference)\n",
    "if cv2.countNonZero(b) == 0 and cv2.countNonZero(g) == 0 and cv2.countNonZero(r) == 0:\n",
    "    print(\"The images are completely Equal\")\n",
    "else:\n",
    "    print (\"The images are not equal\")\n",
    "cv2.imshow(\"Original\", original)\n",
    "cv2.imshow(\"Duplicate\", duplicate)\n",
    "cv2.waitKey(0)\n",
    "cv2.destroyAllWindows()"
   ]
  },
  {
   "cell_type": "markdown",
   "metadata": {},
   "source": [
    "In the above, we have compared with images to validate if we found the correct person or not. However, it would be better to validate it even by checking the person's team he belongs to.  \n",
    "\n",
    "Here, we have taken the list of team names for person who's name start by 'Chris'. "
   ]
  },
  {
   "cell_type": "code",
   "execution_count": 94,
   "metadata": {},
   "outputs": [
    {
     "name": "stdout",
     "output_type": "stream",
     "text": [
      "The result for 'Chris' are printed: \n",
      "Below are the teams list for 'Chris' can work on:  {'Estates and Probate Team', 'Energy team', 'Client relations team', 'Senior management team', 'Specialist finance team', 'Strategic partnerships team', 'Development Capital team'}\n"
     ]
    }
   ],
   "source": [
    "import time\n",
    "from selenium import webdriver\n",
    "browser = webdriver.Chrome('C:/Users/Rajesh/OneDrive/Desktop/chromedriver_win32 (1)/chromedriver.exe')\n",
    "browser.maximize_window()\n",
    "browser.get('https://octopusinvestments.com/investor/about-us/our-people/')\n",
    "search = browser.find_element_by_name('search')\n",
    "search.send_keys(\"Chris\")\n",
    "ids = browser.find_elements_by_xpath(\"//input[@placeholder='e.g Ruth Handcock']\")\n",
    "# for i in ids:\n",
    "    #print i.text\n",
    "#    print (\"The result for 'Chris' are printed:\", i.text)\n",
    "\n",
    "findteam = browser.find_elements_by_class_name(\"team-item_text\")\n",
    "findname = browser.find_elements_by_class_name(\"team-item_title\")\n",
    "\n",
    "team = []\n",
    "for i in findteam:\n",
    "    team.append(i.get_attribute(\"textContent\"))\n",
    "def team_names(s):\n",
    "     return s[4:-3]\n",
    "[(team_names(s)) for s in team]\n",
    "teams1=[]\n",
    "for s in team:\n",
    "    teams1.append(team_names(s))\n",
    "team_group =set(teams1)\n",
    "print(\"Below are the teams list for 'Chris' can work on: \", team_group)"
   ]
  },
  {
   "cell_type": "markdown",
   "metadata": {},
   "source": [
    "Here is an assumption that we are already aware of team name. So if any of the 'chris' from the above list belongs to 'Senior Mnagement team', then we can confirm the search validation."
   ]
  },
  {
   "cell_type": "code",
   "execution_count": 84,
   "metadata": {},
   "outputs": [
    {
     "name": "stdout",
     "output_type": "stream",
     "text": [
      "The result for 'Chris' are printed: \n",
      "{'Estates and Probate Team', 'Energy team', 'Client relations team', 'Senior management team', 'Specialist finance team', 'Strategic partnerships team', 'Development Capital team'}\n",
      "Chris Hulatt belongs to senior management team \n"
     ]
    }
   ],
   "source": [
    "import time\n",
    "from selenium import webdriver\n",
    "browser = webdriver.Chrome('C:/Users/Rajesh/OneDrive/Desktop/chromedriver_win32 (1)/chromedriver.exe')\n",
    "browser.maximize_window()\n",
    "browser.get('https://octopusinvestments.com/investor/about-us/our-people/')\n",
    "search = browser.find_element_by_name('search')\n",
    "search.send_keys(\"Chris\")\n",
    "ids = browser.find_elements_by_xpath(\"//input[@placeholder='e.g Ruth Handcock']\")\n",
    "for i in ids:\n",
    "    #print i.text\n",
    "    print (\"The result for 'Chris' are printed:\", i.text)\n",
    "\n",
    "findteam = browser.find_elements_by_class_name(\"team-item_text\")\n",
    "findname = browser.find_elements_by_class_name(\"team-item_title\")\n",
    "\n",
    "team = []\n",
    "for i in findteam:\n",
    "    team.append(i.get_attribute(\"textContent\"))\n",
    "def team_names(s):\n",
    "     return s[4:-3]\n",
    "[(team_names(s)) for s in team]\n",
    "teams1=[]\n",
    "for s in team:\n",
    "    teams1.append(team_names(s))\n",
    "team_group =set(teams1)\n",
    "print(team_group)\n",
    "\n",
    "for j in findname:\n",
    "    if j.get_attribute(\"textContent\") == \"Chris Hulatt\":\n",
    "        if 'Senior management team' in team_group:\n",
    "            print (\"Search Validated\")\n",
    "        else:\n",
    "            print(\"Search not validated\")\n",
    "                \n",
    "print (\"Chris Hulatt belongs to senior management team \")"
   ]
  },
  {
   "cell_type": "markdown",
   "metadata": {},
   "source": [
    "### Test Case -3\n",
    "#### Click on the Image of the person\n",
    "\n",
    "The page searches for 'Chris Hulatt' and clicks his image."
   ]
  },
  {
   "cell_type": "code",
   "execution_count": 157,
   "metadata": {},
   "outputs": [
    {
     "name": "stdout",
     "output_type": "stream",
     "text": [
      "The result for 'Chris Hulatt' is seen on the screen \n"
     ]
    }
   ],
   "source": [
    "import time\n",
    "from selenium import webdriver\n",
    "from selenium.webdriver.support.ui import WebDriverWait\n",
    "browser = webdriver.Chrome('C:/Users/Rajesh/OneDrive/Desktop/chromedriver_win32 (1)/chromedriver.exe')\n",
    "browser.maximize_window()\n",
    "browser.get('https://octopusinvestments.com/investor/about-us/our-people/')\n",
    "search = browser.find_element_by_name('search')\n",
    "search.send_keys(\"Chris Hulatt\")\n",
    "time.sleep(5)\n",
    "ids = browser.find_elements_by_xpath(\"//input[@placeholder='e.g Ruth Handcock']\")\n",
    "time.sleep(5)\n",
    "for i in ids:\n",
    "    #print i.text\n",
    "    print (\"The result for 'Chris Hulatt' is seen on the screen\", i.text)\n",
    "click_image = browser.get(\"https://octopusinvestments.com/investor/about-us/our-people/chris-hulatt/\")\n",
    "time.sleep(5)\n",
    "browser.close()"
   ]
  },
  {
   "cell_type": "markdown",
   "metadata": {},
   "source": [
    "### Test Case -4:\n",
    "#### Verify the profile details match of the person found. \n",
    "\n",
    "Namely, the phone number and email Id of the person from the website is compared with the local copy on the directory containing the mail address and phone number of the person."
   ]
  },
  {
   "cell_type": "code",
   "execution_count": 16,
   "metadata": {},
   "outputs": [
    {
     "name": "stdout",
     "output_type": "stream",
     "text": [
      "['chris@octopusgroup.com']\n"
     ]
    },
    {
     "data": {
      "text/plain": [
       "True"
      ]
     },
     "execution_count": 16,
     "metadata": {},
     "output_type": "execute_result"
    }
   ],
   "source": [
    "from selenium import webdriver\n",
    "import re\n",
    "\n",
    "expected_email = {'chris@octopusgroup.com'}\n",
    "expected_num = '020 7710 2804'\n",
    "\n",
    "browser = webdriver.Chrome('C:/Users/Rajesh/OneDrive/Desktop/chromedriver_win32 (1)/chromedriver.exe')\n",
    "browser.maximize_window()\n",
    "browser.get(\"https://octopusinvestments.com/investor/about-us/our-people/chris-hulatt/\")\n",
    "\n",
    "doc= browser.page_source\n",
    "emails = re.findall(r'[\\w\\.-]+@[\\w\\.-]+', doc)\n",
    "phone_num = re.findall(r'\\d{3}[-\\.\\s]??\\d{4}[-\\.\\s]??\\d{4}|\\d{5}[-\\.\\s]??\\d{3}[-\\.\\s]??\\d{3}|(?:\\d{4}\\)?[\\s-]?\\d{3}[\\s-]?\\d{4})', doc)\n",
    "\n",
    "email_id = []\n",
    "for email in emails:\n",
    "    email_id.append(email)\n",
    "email_id = set(email_id)\n",
    "print (list(email_id))\n",
    "\n",
    "def assertEquals(var1, var2):\n",
    "    if var1 == var2:\n",
    "        return True\n",
    "    else:\n",
    "        return False\n",
    "    \n",
    "assertEquals(email_id ,expected_email) \n"
   ]
  },
  {
   "cell_type": "code",
   "execution_count": 29,
   "metadata": {},
   "outputs": [
    {
     "name": "stdout",
     "output_type": "stream",
     "text": [
      "020 7710 2804\n"
     ]
    },
    {
     "data": {
      "text/plain": [
       "True"
      ]
     },
     "execution_count": 29,
     "metadata": {},
     "output_type": "execute_result"
    }
   ],
   "source": [
    "from selenium import webdriver\n",
    "import re\n",
    "\n",
    "expected_email = {'chris@octopusgroup.com'}\n",
    "expected_num = '020 7710 2804'\n",
    "\n",
    "browser = webdriver.Chrome('C:/Users/Rajesh/OneDrive/Desktop/chromedriver_win32 (1)/chromedriver.exe')\n",
    "browser.maximize_window()\n",
    "browser.get(\"https://octopusinvestments.com/investor/about-us/our-people/chris-hulatt/\")\n",
    "\n",
    "doc= browser.page_source\n",
    "phone_num = re.findall(r'\\d{3}[-\\.\\s]??\\d{4}[-\\.\\s]??\\d{4}|\\d{5}[-\\.\\s]??\\d{3}[-\\.\\s]??\\d{3}|(?:\\d{4}\\)?[\\s-]?\\d{3}[\\s-]?\\d{4})', doc)\n",
    "\n",
    "phonenum = []\n",
    "for num in phone_num:\n",
    "    phonenum.append(num)\n",
    "phonenum = set(phonenum)\n",
    "\n",
    "phone_num_extracted=[]\n",
    "for i in phonenum:\n",
    "    if i == '020 7710 2804':\n",
    "        phone_num_extracted.append(i)\n",
    "phone_num_extracted =''.join(phone_num_extracted)\n",
    "print (phone_num_extracted)\n",
    "    \n",
    "def assertEquals(var1, var2):\n",
    "    if var1 == var2:\n",
    "        return True\n",
    "    else:\n",
    "        return False\n",
    "    \n",
    "assertEquals(phone_num_extracted ,expected_num)"
   ]
  },
  {
   "cell_type": "markdown",
   "metadata": {},
   "source": [
    "### Test case-5\n",
    "#### Sorting the names by A-Z and by Z-A\n",
    "\n",
    "Here, we have:\n",
    "- captured all values from the dropdown in list\n",
    "- then create a temp list and sort them > you will have 2 list to compare\n",
    "- then compare using equals method"
   ]
  },
  {
   "cell_type": "code",
   "execution_count": null,
   "metadata": {},
   "outputs": [],
   "source": [
    "import time\n",
    "from selenium import webdriver\n",
    "browser = webdriver.Chrome('C:/Users/Rajesh/OneDrive/Desktop/chromedriver_win32 (1)/chromedriver.exe')\n",
    "browser.get('https://octopusinvestments.com/investor/about-us/our-people/')\n",
    "findname = browser.find_elements_by_class_name(\"team-item_title\")\n",
    "time.sleep(2)\n",
    "browser.find_element_by_xpath(\"//div[@class='jq-selectbox__select-text']\").click()\n",
    "time.sleep(2)\n",
    "browser.find_element_by_xpath(\"//li[contains(text(),'Sort A-Z')]\").click()\n",
    "time.sleep(2)\n",
    "browser.find_element_by_xpath(\"//div[@class='jq-selectbox__select-text']\").click()\n",
    "time.sleep(2)\n",
    "browser.find_element_by_xpath(\"//li[contains(text(),'Sort Z-A')]\").click()"
   ]
  },
  {
   "cell_type": "markdown",
   "metadata": {},
   "source": [
    "### Test Case-6\n",
    "#### Verify if the sorting order is correct or not"
   ]
  },
  {
   "cell_type": "code",
   "execution_count": 5,
   "metadata": {},
   "outputs": [
    {
     "name": "stdout",
     "output_type": "stream",
     "text": [
      "A to Z Ascending Order looks good - PASS\n"
     ]
    }
   ],
   "source": [
    "import time\n",
    "from selenium import webdriver\n",
    "from selenium.webdriver.support.ui import WebDriverWait\n",
    "browser = webdriver.Chrome('C:/Users/Rajesh/OneDrive/Desktop/chromedriver_win32 (1)/chromedriver.exe')\n",
    "browser.maximize_window()\n",
    "browser.get('https://octopusinvestments.com/investor/about-us/our-people/')\n",
    "findname = browser.find_elements_by_class_name(\"team-item_title\")\n",
    "# for j in findname:\n",
    "#     print (j.get_attribute(\"textContent\"))\n",
    "#     j.get_attribute(\"textContent\")\n",
    "i = 0\n",
    "sizeofList = len(findname) \n",
    "ascendingorderchkflag = True\n",
    "while i < sizeofList-1 :\n",
    "#     print(findname[i].get_attribute(\"textContent\")) \n",
    "    f1=findname[i].get_attribute(\"textContent\")\n",
    "    f2=findname[i+1].get_attribute(\"textContent\")\n",
    "#     print (f2)\n",
    "    if f1>f2:\n",
    "        ascendingorderchkflag = False\n",
    "    i+=1\n",
    "if ascendingorderchkflag == True:\n",
    "    print(\"A to Z Ascending Order looks good - PASS\")\n",
    "else:\n",
    "    print(\"A to Z Ascending Order FAILED\")"
   ]
  },
  {
   "cell_type": "code",
   "execution_count": 9,
   "metadata": {},
   "outputs": [
    {
     "name": "stdout",
     "output_type": "stream",
     "text": [
      "Z to A Descending Order looks good - PASS\n"
     ]
    }
   ],
   "source": [
    "import time\n",
    "from selenium import webdriver\n",
    "from selenium.webdriver.support.ui import WebDriverWait\n",
    "browser = webdriver.Chrome('C:/Users/Rajesh/OneDrive/Desktop/chromedriver_win32 (1)/chromedriver.exe')\n",
    "browser.maximize_window()\n",
    "browser.get('https://octopusinvestments.com/investor/about-us/our-people/')\n",
    "findname = browser.find_elements_by_class_name(\"team-item_title\")\n",
    "# for j in findname:\n",
    "#     print (j.get_attribute(\"textContent\"))\n",
    "#     j.get_attribute(\"textContent\")\n",
    "i = 0\n",
    "sizeofList = len(findname) \n",
    "descendingorderchkflag = True\n",
    "while i < sizeofList-1 :\n",
    "#     print(findname[i].get_attribute(\"textContent\")) \n",
    "    f1=findname[i+1].get_attribute(\"textContent\")\n",
    "    f2=findname[i].get_attribute(\"textContent\")\n",
    "#     print (f2)\n",
    "    if f1<f2:\n",
    "        descendingorderchkflag = False\n",
    "    i+=1\n",
    "if descendingorderchkflag == True:\n",
    "    print(\"Z to A Descending Order looks good - PASS\")\n",
    "else:\n",
    "    print(\"Z to A Descending Order FAILED\")"
   ]
  },
  {
   "cell_type": "markdown",
   "metadata": {},
   "source": [
    "#### Note: The above code can be further enhanced by accepting the inputs from a file (created by the user)."
   ]
  },
  {
   "cell_type": "markdown",
   "metadata": {},
   "source": []
  }
 ],
 "metadata": {
  "kernelspec": {
   "display_name": "Python 3",
   "language": "python",
   "name": "python3"
  },
  "language_info": {
   "codemirror_mode": {
    "name": "ipython",
    "version": 3
   },
   "file_extension": ".py",
   "mimetype": "text/x-python",
   "name": "python",
   "nbconvert_exporter": "python",
   "pygments_lexer": "ipython3",
   "version": "3.7.4"
  }
 },
 "nbformat": 4,
 "nbformat_minor": 2
}
